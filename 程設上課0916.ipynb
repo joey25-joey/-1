{
  "nbformat": 4,
  "nbformat_minor": 0,
  "metadata": {
    "colab": {
      "provenance": [],
      "authorship_tag": "ABX9TyPcUvurHkO6jm6DdpZsLhfs",
      "include_colab_link": true
    },
    "kernelspec": {
      "name": "python3",
      "display_name": "Python 3"
    },
    "language_info": {
      "name": "python"
    }
  },
  "cells": [
    {
      "cell_type": "markdown",
      "metadata": {
        "id": "view-in-github",
        "colab_type": "text"
      },
      "source": [
        "<a href=\"https://colab.research.google.com/github/joey25-joey/-1/blob/main/%E7%A8%8B%E8%A8%AD%E4%B8%8A%E8%AA%B20916.ipynb\" target=\"_parent\"><img src=\"https://colab.research.google.com/assets/colab-badge.svg\" alt=\"Open In Colab\"/></a>"
      ]
    },
    {
      "cell_type": "code",
      "source": [
        "print(\" hello Ｗorld \")"
      ],
      "metadata": {
        "colab": {
          "base_uri": "https://localhost:8080/"
        },
        "id": "u40Z0AlPM60Z",
        "outputId": "3f9d55dc-2fb0-48cf-cf6c-80c1e9060c15"
      },
      "execution_count": 6,
      "outputs": [
        {
          "output_type": "stream",
          "name": "stdout",
          "text": [
            "hello Ｗorld\n"
          ]
        }
      ]
    },
    {
      "cell_type": "code",
      "source": [
        "# 快捷鍵（command + / )\n",
        "a , b , c = 10 , 20 , 30\n",
        "print(a , b , c)"
      ],
      "metadata": {
        "colab": {
          "base_uri": "https://localhost:8080/"
        },
        "id": "YMzjhsPbL12O",
        "outputId": "bdec36ea-e981-4a39-8f19-0317a38c2ee8"
      },
      "execution_count": 18,
      "outputs": [
        {
          "output_type": "stream",
          "name": "stdout",
          "text": [
            "10 20 30\n"
          ]
        }
      ]
    },
    {
      "cell_type": "code",
      "source": [
        "a = input(\"請輸入您的學號：\")\n",
        "b = input(\"請輸入您的姓名：\")\n",
        "print(\"學號：\" , a , '姓名:', b)"
      ],
      "metadata": {
        "colab": {
          "base_uri": "https://localhost:8080/"
        },
        "id": "KI3ruWT3ccY_",
        "outputId": "7457b021-ce8e-49eb-895f-8416eb7f186d"
      },
      "execution_count": 25,
      "outputs": [
        {
          "output_type": "stream",
          "name": "stdout",
          "text": [
            "請輸入您的學號：fefe\n",
            "請輸入您的姓名：fefe\n",
            "學號： fefe 姓名: fefe\n"
          ]
        }
      ]
    },
    {
      "cell_type": "code",
      "source": [
        "# int為整數的檔案名（ex : 10 , 10 , 3 , 10000)\n",
        "a = 10\n",
        "\n",
        "# type是查詢資訊種類\n",
        "type(a)\n",
        "\n",
        "# float(小數點的數字 , 浮點數)\n",
        "b = 10.325\n",
        "type(b)\n",
        "\n",
        "# round 四捨五入 2 小數點第二位 , 1 小數點後第一位）\n",
        "print(round(b, 2))\n",
        "\n",
        "# 強制轉換型態\n",
        "c = int(b)\n",
        "d = float(c)\n",
        "d\n",
        "# str 字串\n",
        "e = \"dsdsd\"\n",
        "type(e)\n",
        "\n",
        "# 強制轉換 int to str\n",
        "f = 1 + 2\n",
        "g = str(f)\n",
        "type(g)\n",
        "# bool 布林值 true or false( 首字一定要大寫 )\n",
        "h = True and True\n",
        "type(h)\n",
        "True and False\n",
        "False and True\n",
        "False and False\n",
        "\n",
        "# and , or\n",
        "# ==,>=,<=,!=\n"
      ],
      "metadata": {
        "colab": {
          "base_uri": "https://localhost:8080/"
        },
        "id": "2pI8jDnCiRAL",
        "outputId": "cb0fbd5e-64e0-4b3c-d655-0d17f146aa77"
      },
      "execution_count": 62,
      "outputs": [
        {
          "output_type": "stream",
          "name": "stdout",
          "text": [
            "10.32\n"
          ]
        },
        {
          "output_type": "execute_result",
          "data": {
            "text/plain": [
              "False"
            ]
          },
          "metadata": {},
          "execution_count": 62
        }
      ]
    },
    {
      "cell_type": "code",
      "source": [],
      "metadata": {
        "id": "HI8LW86UorTh"
      },
      "execution_count": null,
      "outputs": []
    }
  ]
}